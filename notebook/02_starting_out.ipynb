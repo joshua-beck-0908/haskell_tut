{
 "cells": [
  {
   "cell_type": "markdown",
   "metadata": {},
   "source": [
    "<style> p { max-width: 500px; } </style>\n",
    "\n",
    "# [Starting Out](https://learnyouahaskell.github.io/starting-out.html)\n",
    "\n",
    "## [Ready, set, go!](https://learnyouahaskell.github.io/starting-out.html#ready-set-go)\n",
    "So firstly I'm not the \"horrible person who doesn't read introductions\", I did read it!🤣\n",
    "\n",
    "There's some commands to try in interactive mode. \n",
    "\n",
    "I'll see if these work with my Jupyter plugin.\n",
    "\n"
   ]
  },
  {
   "cell_type": "code",
   "execution_count": 1,
   "metadata": {},
   "outputs": [
    {
     "data": {
      "text/plain": [
       "4"
      ]
     },
     "metadata": {},
     "output_type": "display_data"
    }
   ],
   "source": [
    "2 + 2"
   ]
  },
  {
   "cell_type": "markdown",
   "metadata": {},
   "source": [
    "<style> p { max-width: 500px; } </style>\n",
    "\n",
    "This was when I encounted my first problem, thanks to an unintuitive mechanism in `stack`.\n",
    "\n",
    "```sh\n",
    "ghc --version\n",
    "```\n",
    "Returns `9.4.8`.\n",
    "```sh\n",
    "stack exec ghc -- --version\n",
    "```\n",
    "Returns `9.8.4`.\n",
    "\n",
    "This caused the weird mismatch that crashed the Jupyter kernel after spamming this message:\n",
    "`mismatched interface file versions (wanted \"9064\", got \"9084\")`\n",
    "\n",
    "What? I'm so confused. I though stack had it's own isolated version??\n",
    "\n",
    "It seemed to installed its own version, then complain the system version isn't what it expects. Well... obviously.\n",
    "\n",
    "Can I just get stack to use the system version?\n",
    "\n",
    "I read up a little an opened \"~/.stack/global-project/stack.yaml\", hoping I could change the version.\n",
    "\n",
    "But it only added to the confusion. Because it had not the version number, nor the build number, but a third seemingly unrelated value:\n",
    "```yaml\n",
    "resolver: lts-23.5\n",
    "```\n",
    "You've got to be kidding me...\n",
    "\n",
    "I presume even if I change it, I'll be messing around with version numbers whenever it updates. There must be a way to just get it to use the system version...\n",
    "\n",
    "After a bit of messing around with versions, I installed both the latest and the specific version this kernel seems to need (9.6.4).\n",
    "\n",
    "Then I prepended the path for 9.6.4 in the Jupyter server script and made sure the script was `cd`ing to the current directory.\n",
    "\n",
    "After restart VSCode and reconnecting this seems to fix the problem.\n",
    "\n",
    "Uuugh. Where was I again?\n"
   ]
  },
  {
   "cell_type": "code",
   "execution_count": 8,
   "metadata": {},
   "outputs": [
    {
     "data": {
      "text/plain": [
       "6"
      ]
     },
     "metadata": {},
     "output_type": "display_data"
    },
    {
     "data": {
      "text/plain": [
       "900"
      ]
     },
     "metadata": {},
     "output_type": "display_data"
    },
    {
     "data": {
      "text/plain": [
       "3"
      ]
     },
     "metadata": {},
     "output_type": "display_data"
    },
    {
     "data": {
      "text/plain": [
       "2.25"
      ]
     },
     "metadata": {},
     "output_type": "display_data"
    },
    {
     "data": {
      "text/plain": [
       "12"
      ]
     },
     "metadata": {},
     "output_type": "display_data"
    },
    {
     "data": {
      "text/plain": [
       "12"
      ]
     },
     "metadata": {},
     "output_type": "display_data"
    },
    {
     "data": {
      "text/plain": [
       "14"
      ]
     },
     "metadata": {},
     "output_type": "display_data"
    }
   ],
   "source": [
    "3 + 3\n",
    "9 * 100\n",
    "5 - 2\n",
    "9 / 4\n",
    "2 + 5 * 2\n",
    "2 * 5 + 2\n",
    "2 * (5 + 2)"
   ]
  },
  {
   "cell_type": "markdown",
   "metadata": {},
   "source": [
    "<style> p { max-width: 500px; } </style>\n",
    "\n",
    "Okay, it's pretty much what you'd expect for symbols.\n",
    "\n",
    "Order of operations is and the meanings are the same as most programming languages.\n",
    "\n",
    "The only unexpected thing is that division is floating point by default.\n",
    "\n",
    "At least I think that's a standard 64-bit float.\n",
    "\n"
   ]
  },
  {
   "cell_type": "code",
   "execution_count": 1,
   "metadata": {},
   "outputs": [
    {
     "data": {
      "text/plain": [
       "0.30000000000000004"
      ]
     },
     "metadata": {},
     "output_type": "display_data"
    }
   ],
   "source": [
    "0.1 + 0.2"
   ]
  },
  {
   "cell_type": "markdown",
   "metadata": {},
   "source": [
    "Yep.\n",
    "\n",
    "It is.\n"
   ]
  },
  {
   "cell_type": "code",
   "execution_count": 2,
   "metadata": {},
   "outputs": [
    {
     "data": {
      "text/plain": [
       "-15"
      ]
     },
     "metadata": {},
     "output_type": "display_data"
    }
   ],
   "source": [
    "-- Negatives must go in brackets. \n",
    "-- This fails:\n",
    "-- 5 * -3\n",
    "-- This is okay:\n",
    "5 * (-3)"
   ]
  },
  {
   "cell_type": "markdown",
   "metadata": {},
   "source": [
    "<style> p { max-width: 500px; } </style>\n",
    "\n",
    "Though trial and error I found that the comment sign is `--`, not so common now.\n",
    "\n",
    "Boolean comparitors are what you'd expect '&&' and '||'.\n",
    "\n",
    "`True` and `False` are captialised. \n",
    "\n",
    "A `not` keyword is used rather than `!`\n",
    "\n",
    "`==` is used as a comparitor for numbers and strings, and presumable `>=` and `<=`.\n",
    "\n",
    "Strings are double quoted.\n",
    "\n",
    "There's no real surprises here. It's not weird world of APL or the maths language of Julia.\n",
    "\n",
    "We can't compare `5 == True` or `12 == \"frog\". Nor can we add them together. It's not JavaScript.\n",
    "\n",
    "Though integers are automatically promoted so we can compare floats to integers, `5.0 == 5` evaluates to `True`.\n",
    "\n",
    "Function names and arguments are separated with spaces, which is interest.\n",
    "\n",
    "I've mostly only seen that in scripting languages."
   ]
  },
  {
   "cell_type": "code",
   "execution_count": 26,
   "metadata": {},
   "outputs": [
    {
     "data": {
      "text/plain": [
       "5"
      ]
     },
     "metadata": {},
     "output_type": "display_data"
    },
    {
     "data": {
      "text/plain": [
       "5.5"
      ]
     },
     "metadata": {},
     "output_type": "display_data"
    },
    {
     "data": {
      "text/plain": [
       "2"
      ]
     },
     "metadata": {},
     "output_type": "display_data"
    },
    {
     "data": {
      "text/plain": [
       "4"
      ]
     },
     "metadata": {},
     "output_type": "display_data"
    },
    {
     "data": {
      "text/plain": [
       "2"
      ]
     },
     "metadata": {},
     "output_type": "display_data"
    },
    {
     "data": {
      "text/plain": [
       "2"
      ]
     },
     "metadata": {},
     "output_type": "display_data"
    }
   ],
   "source": [
    "-- The succ(essor) function literally just adds one for numbers.\n",
    "-- It succs.\n",
    "succ 4\n",
    "succ 4.5\n",
    "\n",
    "-- min and max do what you'd expect.\n",
    "-- But they only take two numbers.\n",
    "min 4 2\n",
    "max 4 2\n",
    "\n",
    "-- div is used for integer division\n",
    "div 9 4\n",
    "\n",
    "-- Any operations can also be put in the middle surrounded by backticks if you'd prefer.\n",
    "9 `div` 4\n",
    "\n"
   ]
  },
  {
   "cell_type": "markdown",
   "metadata": {},
   "source": [
    "<style> p { max-width: 500px; } </style>\n",
    "\n",
    "## [Baby's first functions](https://learnyouahaskell.github.io/starting-out.html#babys-first-functions)\n",
    "\n",
    "```haskellj\n",
    "doubleMe x = x + x \n",
    "```\n",
    "So in this example there's:\n",
    " - The name 'doubleMe'\n",
    " - The... parameter list?\n",
    " - An equals sign.\n",
    " - The function contents.\n",
    "\n",
    "\n",
    "It's interesting an assignment operator is used here rather than a function keyword, but that does mesh with what's been said already.\n",
    "\n",
    "So what about the return? Is there only one?\n",
    "\n",
    "I started the source file '01_baby'.\n",
    "\n",
    "`ghc` won't run it, because there no main function. \n",
    "\n",
    "However the function can be loaded and use interactively with `ghci` with `:l src/01_baby`. The '.hs' extension is not required.\n",
    "\n",
    "They gave another example with two parameters:\n",
    "```haskell\n",
    "doubleUs x y = x*2 + y*2\n",
    "```\n",
    "\n",
    "So the assumption of a parameter list is correct. \n",
    "\n",
    "It seems you just put all the space-separated parameters in order after the function name and before the equals sign.\n",
    "\n",
    "You can chain functions together like so:\n",
    "\n"
   ]
  },
  {
   "cell_type": "code",
   "execution_count": 30,
   "metadata": {},
   "outputs": [
    {
     "data": {
      "text/plain": [
       "14"
      ]
     },
     "metadata": {},
     "output_type": "display_data"
    },
    {
     "data": {
      "text/plain": [
       "27"
      ]
     },
     "metadata": {},
     "output_type": "display_data"
    }
   ],
   "source": [
    "doubleMe x = x + x\n",
    "doubleUs x y = doubleMe x + doubleMe y  \n",
    "doubleUs 4 3\n",
    "\n",
    "squareArea x = x*x\n",
    "cubeArea x = squareArea x * x\n",
    "\n",
    "cubeArea 3"
   ]
  },
  {
   "cell_type": "markdown",
   "metadata": {},
   "source": [
    "<style> p { max-width: 500px; } </style>\n",
    "I can see this being a crazy rabbit hole of lazy evals.\n",
    "\n",
    "Anyway.\n",
    "\n",
    ">Now we're going to make a function that multiplies a number by 2 but only if that number is smaller than or equal to 100 because numbers bigger than 100 are big enough as it is! \n",
    "\n",
    "Definitely! I mean, do you ever use three digit numbers in real life?\n",
    "\n",
    "```haskell\n",
    "    doubleSmallNumber x = if x > 100  \n",
    "                            then x  \n",
    "                            else x*2   \n",
    "```\n",
    "\n",
    "Hmm, so it seems similar to the inline ifs in Python's list comprehension.\n",
    "\n",
    "`else` is possible. Oh, did I say possible? I mean <strong>MANDATORY</strong>.\n",
    "\n",
    "Yep, an `if` statement is an expression and following the functional programming logic **every statement must return something**.\n",
    "\n",
    "<small>(I feel like the graphics may be going down hill, that is one messed up baby)</small>\n",
    "\n",
    "\n"
   ]
  },
  {
   "cell_type": "code",
   "execution_count": 31,
   "metadata": {},
   "outputs": [
    {
     "data": {
      "text/plain": [
       "10"
      ]
     },
     "metadata": {},
     "output_type": "display_data"
    },
    {
     "data": {
      "text/plain": [
       "200"
      ]
     },
     "metadata": {},
     "output_type": "display_data"
    },
    {
     "data": {
      "text/plain": [
       "11"
      ]
     },
     "metadata": {},
     "output_type": "display_data"
    }
   ],
   "source": [
    "doubleSmallNumber x = if x > 100  \n",
    "                        then x  \n",
    "                        else x*2   \n",
    "\n",
    "-- The apostrophy doesn't mean anything syntactially. \n",
    "-- It can be used anywhere in a name.\n",
    "-- It's just common convention to add one at the end for a strict (not lazy) function.\n",
    "-- Or a slightly modified version.\n",
    "doubleSmallNumber' x = (if x > 100 then x else x*2) + 1\n",
    "\n",
    "doubleSmallNumber 5\n",
    "doubleSmallNumber 200\n",
    "doubleSmallNumber' 5"
   ]
  },
  {
   "cell_type": "markdown",
   "metadata": {},
   "source": [
    "<style> p { max-width: 500px; } </style>\n",
    "\n",
    "## [An intro to lists](https://learnyouahaskell.github.io/starting-out.html#an-intro-to-lists)\n"
   ]
  },
  {
   "cell_type": "code",
   "execution_count": null,
   "metadata": {},
   "outputs": [
    {
     "data": {
      "text/plain": [
       "\"abc\""
      ]
     },
     "metadata": {},
     "output_type": "display_data"
    },
    {
     "data": {
      "text/plain": [
       "\"abcde\""
      ]
     },
     "metadata": {},
     "output_type": "display_data"
    },
    {
     "data": {
      "text/plain": [
       "[1,2,3,4,5,6]"
      ]
     },
     "metadata": {},
     "output_type": "display_data"
    },
    {
     "data": {
      "text/plain": [
       "\">Hello\""
      ]
     },
     "metadata": {},
     "output_type": "display_data"
    },
    {
     "data": {
      "text/plain": [
       "[1,5,4,3,2]"
      ]
     },
     "metadata": {},
     "output_type": "display_data"
    },
    {
     "data": {
      "text/plain": [
       "[[1,2,3],[4,5,6]]"
      ]
     },
     "metadata": {},
     "output_type": "display_data"
    },
    {
     "data": {
      "text/plain": [
       "'w'"
      ]
     },
     "metadata": {},
     "output_type": "display_data"
    },
    {
     "data": {
      "text/plain": [
       "7.8"
      ]
     },
     "metadata": {},
     "output_type": "display_data"
    }
   ],
   "source": [
    "-- Lists use square brackets.\n",
    "-- This is a function that just returns a list.\n",
    "circles = [3, 1, 4, 1, 5, 9, 2, 6, 5]\n",
    "\n",
    "-- List can only contain one type.\n",
    "-- No mixing characters and numbers, that are not equivalent like in other languages.\n",
    "-- A string is just a list of characters.\n",
    "['a', 'b', 'c']\n",
    "\n",
    "-- Use two pluses to combine lists.\n",
    "-- This can be an expensive operation for large lists.\n",
    "['a', 'b', 'c'] ++ \"de\"\n",
    "[1, 2, 3] ++ [4, 5, 6]\n",
    "\n",
    "-- You can prepend individual items to lists with the colon operator.\n",
    "'>':\"Hello\"\n",
    "1:[5,4,3,2]\n",
    "\n",
    "-- Lists can contain other lists, but the sublists must have the same type.\n",
    "[[1, 2, 3], [4, 5, 6]]\n",
    "\n",
    "-- Use a double exclamation mark to get an items from a list.\n",
    "-- Indexes start from zero.\n",
    "-- Be careful not to exceed the list bounds.\n",
    "\"Hello world\" !! 6\n",
    "[1.2, 3.4, 5.6, 7.8] !! 3"
   ]
  },
  {
   "cell_type": "markdown",
   "metadata": {},
   "source": [
    "<style> p { max-width: 500px; } </style>\n",
    "\n",
    "The list syntax is a little weird. \n",
    "\n",
    "The different operators for lists and values is interesting considering how type-agnostic the operators have been so far.\n",
    "\n",
    "Double operators? Are all list operators like this?\n",
    "\n",
    "I don't think we've been introduced to what a single exclamation mark would do?\n",
    "\n",
    "List homogenenity seems to be strongly enforced.\n",
    "\n",
    "The lists can contain sublists that can contain their own sublists but the values at the lowest level all have to be the same type. Also the depth must be the same, no mixing items and sublist.\n",
    "\n"
   ]
  },
  {
   "cell_type": "code",
   "execution_count": null,
   "metadata": {},
   "outputs": [
    {
     "data": {
      "text/plain": [
       "[[[1,2,3],[4,5,6,7]],[[1,2,3],[4,5,6]]]"
      ]
     },
     "metadata": {},
     "output_type": "display_data"
    },
    {
     "data": {
      "text/plain": [
       "[[1,2,3],[4,5,6]]"
      ]
     },
     "metadata": {},
     "output_type": "display_data"
    },
    {
     "data": {
      "text/plain": [
       "[4,5,6]"
      ]
     },
     "metadata": {},
     "output_type": "display_data"
    },
    {
     "data": {
      "text/plain": [
       "6"
      ]
     },
     "metadata": {},
     "output_type": "display_data"
    },
    {
     "data": {
      "text/plain": [
       "True"
      ]
     },
     "metadata": {},
     "output_type": "display_data"
    },
    {
     "data": {
      "text/plain": [
       "True"
      ]
     },
     "metadata": {},
     "output_type": "display_data"
    },
    {
     "data": {
      "text/plain": [
       "True"
      ]
     },
     "metadata": {},
     "output_type": "display_data"
    },
    {
     "data": {
      "text/plain": [
       "True"
      ]
     },
     "metadata": {},
     "output_type": "display_data"
    },
    {
     "data": {
      "text/plain": [
       "[2,2,2,2,3]"
      ]
     },
     "metadata": {},
     "output_type": "display_data"
    },
    {
     "data": {
      "text/plain": [
       "True"
      ]
     },
     "metadata": {},
     "output_type": "display_data"
    },
    {
     "data": {
      "text/plain": [
       "True"
      ]
     },
     "metadata": {},
     "output_type": "display_data"
    }
   ],
   "source": [
    "a = [[[1, 2, 3], [4, 5, 6, 7]], [[1, 2, 3], [4, 5, 6]]]\n",
    "-- List elements and sub-elements and so on...\n",
    "a\n",
    "a !! 1\n",
    "a !! 1 !! 1\n",
    "a !! 1 !! 1 !! 2\n",
    "\n",
    "-- Lists can be compared with the standard operators. \n",
    "-- The first element of each list is compared, then the next if it is the same, and so on.\n",
    "[1, 2, 3] < [2, 2, 3]\n",
    "[1, 2, 3] < [1, 3, 3]\n",
    "[1, 2, 2] < [1, 2, 3]\n",
    "[2, 2] == [2, 2]\n",
    "-- This one is false, but where's the not equals?? \n",
    "-- Both `!=` and `<>` fail.\n",
    "[2, 2] == [2, 2, 3]\n",
    "-- They don't need to be the same length!\n",
    "[2, 4] < [2, 4, 5]\n",
    "[2, 4] > [2, 3, 5]"
   ]
  },
  {
   "cell_type": "markdown",
   "metadata": {},
   "source": [
    "<style> p { max-width: 500px; } </style>\n",
    "\n",
    "Now for the list monster.\n",
    "\n",
    "I think the graphic might be a handy reference.\n",
    "![list monster](data/listmonster.png)"
   ]
  },
  {
   "cell_type": "code",
   "execution_count": 24,
   "metadata": {},
   "outputs": [
    {
     "data": {
      "text/html": [
       "<style>/* Styles used for the Hoogle display in the pager */\n",
       ".hoogle-doc {\n",
       "display: block;\n",
       "padding-bottom: 1.3em;\n",
       "padding-left: 0.4em;\n",
       "}\n",
       ".hoogle-code {\n",
       "display: block;\n",
       "font-family: monospace;\n",
       "white-space: pre;\n",
       "}\n",
       ".hoogle-text {\n",
       "display: block;\n",
       "}\n",
       ".hoogle-name {\n",
       "color: green;\n",
       "font-weight: bold;\n",
       "}\n",
       ".hoogle-head {\n",
       "font-weight: bold;\n",
       "}\n",
       ".hoogle-sub {\n",
       "display: block;\n",
       "margin-left: 0.4em;\n",
       "}\n",
       ".hoogle-package {\n",
       "font-weight: bold;\n",
       "font-style: italic;\n",
       "}\n",
       ".hoogle-module {\n",
       "font-weight: bold;\n",
       "}\n",
       ".hoogle-class {\n",
       "font-weight: bold;\n",
       "}\n",
       "\n",
       ".get-type {\n",
       "color: green;\n",
       "font-weight: bold;\n",
       "font-family: monospace;\n",
       "display: block;\n",
       "white-space: pre-wrap;\n",
       "}\n",
       ".show-type {\n",
       "color: green;\n",
       "font-weight: bold;\n",
       "font-family: monospace;\n",
       "margin-left: 1em;\n",
       "}\n",
       ".mono {\n",
       "font-family: monospace;\n",
       "display: block;\n",
       "}\n",
       ".err-msg {\n",
       "color: red;\n",
       "font-style: italic;\n",
       "font-family: monospace;\n",
       "white-space: pre;\n",
       "display: block;\n",
       "}\n",
       "#unshowable {\n",
       "color: red;\n",
       "font-weight: bold;\n",
       "}\n",
       ".err-msg.in.collapse {\n",
       "padding-top: 0.7em;\n",
       "}\n",
       "\n",
       ".highlight-code {\n",
       "white-space: pre;\n",
       "font-family: monospace;\n",
       "}\n",
       "\n",
       ".suggestion-warning { \n",
       "font-weight: bold;\n",
       "color: rgb(200, 130, 0);\n",
       "}\n",
       ".suggestion-error { \n",
       "font-weight: bold;\n",
       "color: red;\n",
       "}\n",
       ".suggestion-name {\n",
       "font-weight: bold;\n",
       "}\n",
       "\n",
       "</style><div class=\"suggestion-name\" style=\"clear:both;\">Evaluate</div><div class=\"suggestion-row\" style=\"float: left;\"><div class=\"suggestion-warning\">Found:</div><div class=\"highlight-code\" id=\"haskell\">null []</div></div><div class=\"suggestion-row\" style=\"float: left;\"><div class=\"suggestion-warning\">Why Not:</div><div class=\"highlight-code\" id=\"haskell\">True</div></div><div class=\"suggestion-name\" style=\"clear:both;\">Use infix</div><div class=\"suggestion-row\" style=\"float: left;\"><div class=\"suggestion-warning\">Found:</div><div class=\"highlight-code\" id=\"haskell\">elem 'a' \"Sad\"</div></div><div class=\"suggestion-row\" style=\"float: left;\"><div class=\"suggestion-warning\">Why Not:</div><div class=\"highlight-code\" id=\"haskell\">'a' `elem` \"Sad\"</div></div>"
      ],
      "text/plain": [
       "Line 22: Evaluate\n",
       "Found:\n",
       "null []\n",
       "Why not:\n",
       "TrueLine 46: Use infix\n",
       "Found:\n",
       "elem 'a' \"Sad\"\n",
       "Why not:\n",
       "'a' `elem` \"Sad\""
      ]
     },
     "metadata": {},
     "output_type": "display_data"
    },
    {
     "data": {
      "text/plain": [
       "'B'"
      ]
     },
     "metadata": {},
     "output_type": "display_data"
    },
    {
     "data": {
      "text/plain": [
       "[2,3,4,5]"
      ]
     },
     "metadata": {},
     "output_type": "display_data"
    },
    {
     "data": {
      "text/plain": [
       "25"
      ]
     },
     "metadata": {},
     "output_type": "display_data"
    },
    {
     "data": {
      "text/plain": [
       "\"Bob\""
      ]
     },
     "metadata": {},
     "output_type": "display_data"
    },
    {
     "data": {
      "text/plain": [
       "5"
      ]
     },
     "metadata": {},
     "output_type": "display_data"
    },
    {
     "data": {
      "text/plain": [
       "True"
      ]
     },
     "metadata": {},
     "output_type": "display_data"
    },
    {
     "data": {
      "text/plain": [
       "\"tam\""
      ]
     },
     "metadata": {},
     "output_type": "display_data"
    },
    {
     "data": {
      "text/plain": [
       "\"abc\""
      ]
     },
     "metadata": {},
     "output_type": "display_data"
    },
    {
     "data": {
      "text/plain": [
       "\"def\""
      ]
     },
     "metadata": {},
     "output_type": "display_data"
    },
    {
     "data": {
      "text/plain": [
       "'r'"
      ]
     },
     "metadata": {},
     "output_type": "display_data"
    },
    {
     "data": {
      "text/plain": [
       "-5"
      ]
     },
     "metadata": {},
     "output_type": "display_data"
    },
    {
     "data": {
      "text/plain": [
       "31"
      ]
     },
     "metadata": {},
     "output_type": "display_data"
    },
    {
     "data": {
      "text/plain": [
       "1024"
      ]
     },
     "metadata": {},
     "output_type": "display_data"
    },
    {
     "data": {
      "text/plain": [
       "True"
      ]
     },
     "metadata": {},
     "output_type": "display_data"
    }
   ],
   "source": [
    "-- `head` returns the first item.\n",
    "head \"Billy\"\n",
    "\n",
    "-- `tail` everything but the head. \n",
    "-- Perhaps they should have called it \"decap\".\n",
    "tail [1, 2, 3, 4, 5]\n",
    "\n",
    "-- `last` for the final item only.\n",
    "last [1, 4, 9, 16, 25]\n",
    "\n",
    "-- And uh, `init` for everything but the last???\n",
    "-- What does that even stand for?\n",
    "init \"Boba\"\n",
    "\n",
    "-- `head` fails for a blank list.\n",
    "-- head []\n",
    "\n",
    "-- `length` does... what you'd expect.\n",
    "length \"12345\"\n",
    "\n",
    "-- `null` checks if the list is empty.\n",
    "null []\n",
    "\n",
    "-- `reverse` does what you'd expect.\n",
    "reverse \"mat\"\n",
    "\n",
    "-- `take` keeps only the first n items.\n",
    "take 3 \"abcdef\"\n",
    "\n",
    "--- `drop` is the opposite, removing the first n items.\n",
    "drop 3 \"abcdef\"\n",
    "\n",
    "-- `maximum` finds the largest element in a list.\n",
    "maximum \"Frank\"\n",
    "\n",
    "-- `minimum` does the opposite.\n",
    "minimum [1, 6, 8, 2, -5, 9]\n",
    "\n",
    "-- `sum` adds a list of numbers\n",
    "sum [1, 2, 4, 8, 16]\n",
    "\n",
    "-- `product` multiplies them.\n",
    "product [1, 2, 4, 8, 16]\n",
    "\n",
    "-- `elem` check if an item is in a list.\n",
    "elem 'a' \"Sad\""
   ]
  },
  {
   "cell_type": "markdown",
   "metadata": {},
   "source": [
    "<style> p,ul { max-width: 500px; } </style>\n",
    "\n",
    "That a lot of interesting list operations of unpack.\n",
    " * Grabbing bits with head, tail, lasts, init, take, and drop.\n",
    " * Summerizing with length, sum, product, minimum, and maximum.\n",
    " * Checking with null, and elem.\n",
    " * Also, reverse!\n",
    " \n",
    "Interestingly the interactive interpreter seems to complain about two of these:\n",
    " * Use `infix` instead of `null`.\n",
    " * Use `elem` in the middle rather than the start.\n",
    "\n"
   ]
  },
  {
   "cell_type": "code",
   "execution_count": 8,
   "metadata": {},
   "outputs": [
    {
     "data": {
      "text/html": [
       "<style>/* Styles used for the Hoogle display in the pager */\n",
       ".hoogle-doc {\n",
       "display: block;\n",
       "padding-bottom: 1.3em;\n",
       "padding-left: 0.4em;\n",
       "}\n",
       ".hoogle-code {\n",
       "display: block;\n",
       "font-family: monospace;\n",
       "white-space: pre;\n",
       "}\n",
       ".hoogle-text {\n",
       "display: block;\n",
       "}\n",
       ".hoogle-name {\n",
       "color: green;\n",
       "font-weight: bold;\n",
       "}\n",
       ".hoogle-head {\n",
       "font-weight: bold;\n",
       "}\n",
       ".hoogle-sub {\n",
       "display: block;\n",
       "margin-left: 0.4em;\n",
       "}\n",
       ".hoogle-package {\n",
       "font-weight: bold;\n",
       "font-style: italic;\n",
       "}\n",
       ".hoogle-module {\n",
       "font-weight: bold;\n",
       "}\n",
       ".hoogle-class {\n",
       "font-weight: bold;\n",
       "}\n",
       "\n",
       ".get-type {\n",
       "color: green;\n",
       "font-weight: bold;\n",
       "font-family: monospace;\n",
       "display: block;\n",
       "white-space: pre-wrap;\n",
       "}\n",
       ".show-type {\n",
       "color: green;\n",
       "font-weight: bold;\n",
       "font-family: monospace;\n",
       "margin-left: 1em;\n",
       "}\n",
       ".mono {\n",
       "font-family: monospace;\n",
       "display: block;\n",
       "}\n",
       ".err-msg {\n",
       "color: red;\n",
       "font-style: italic;\n",
       "font-family: monospace;\n",
       "white-space: pre;\n",
       "display: block;\n",
       "}\n",
       "#unshowable {\n",
       "color: red;\n",
       "font-weight: bold;\n",
       "}\n",
       ".err-msg.in.collapse {\n",
       "padding-top: 0.7em;\n",
       "}\n",
       "\n",
       ".highlight-code {\n",
       "white-space: pre;\n",
       "font-family: monospace;\n",
       "}\n",
       "\n",
       ".suggestion-warning { \n",
       "font-weight: bold;\n",
       "color: rgb(200, 130, 0);\n",
       "}\n",
       ".suggestion-error { \n",
       "font-weight: bold;\n",
       "color: red;\n",
       "}\n",
       ".suggestion-name {\n",
       "font-weight: bold;\n",
       "}\n",
       "\n",
       "</style><div class=\"suggestion-name\" style=\"clear:both;\">Use replicate</div><div class=\"suggestion-row\" style=\"float: left;\"><div class=\"suggestion-warning\">Found:</div><div class=\"highlight-code\" id=\"haskell\">take 10 (repeat 'a')</div></div><div class=\"suggestion-row\" style=\"float: left;\"><div class=\"suggestion-warning\">Why Not:</div><div class=\"highlight-code\" id=\"haskell\">replicate 10 'a'</div></div>"
      ],
      "text/plain": [
       "Line 23: Use replicate\n",
       "Found:\n",
       "take 10 (repeat 'a')\n",
       "Why not:\n",
       "replicate 10 'a'"
      ]
     },
     "metadata": {},
     "output_type": "display_data"
    },
    {
     "data": {
      "text/plain": [
       "[1,2,3,4,5,6,7,8,9,10]"
      ]
     },
     "metadata": {},
     "output_type": "display_data"
    },
    {
     "data": {
      "text/plain": [
       "\"abcdefghijklmnopqrstuvwxyz\""
      ]
     },
     "metadata": {},
     "output_type": "display_data"
    },
    {
     "data": {
      "text/plain": [
       "[2,4,6,8,10,12,14,16,18,20,22,24,26,28,30]"
      ]
     },
     "metadata": {},
     "output_type": "display_data"
    },
    {
     "data": {
      "text/plain": [
       "[6,9,12,15,18,21,24,27,30,33,36,39,42,45,48,51,54,57,60]"
      ]
     },
     "metadata": {},
     "output_type": "display_data"
    },
    {
     "data": {
      "text/plain": [
       "[10,9,8,7,6,5,4,3,2,1,0,-1,-2]"
      ]
     },
     "metadata": {},
     "output_type": "display_data"
    },
    {
     "data": {
      "text/plain": [
       "\"ABCABCABCABCABCABCAB\""
      ]
     },
     "metadata": {},
     "output_type": "display_data"
    },
    {
     "data": {
      "text/plain": [
       "\"aaaaaaaaaa\""
      ]
     },
     "metadata": {},
     "output_type": "display_data"
    },
    {
     "data": {
      "text/plain": [
       "\"bbb\""
      ]
     },
     "metadata": {},
     "output_type": "display_data"
    }
   ],
   "source": [
    "-- You can use ranges with two dots between them.\n",
    "[1..10]\n",
    "['a'..'z']\n",
    "\n",
    "-- Or even specify one step.\n",
    "-- All even numbers to thirty.\n",
    "-- This actually specifies the first two numbers of the range with '..' then an upper bound.\n",
    "[2,4..30]\n",
    "\n",
    "-- Starting from six, every third number until sixty.\n",
    "[6,9..60]\n",
    "\n",
    "-- Count down\n",
    "-- Note that [10..1] will not work, it'll need to be [10,9..1]\n",
    "[10,9..(-2)]\n",
    "-- Only simple linear patterns can be used. \n",
    "\n",
    "-- `cycle` makes a list repeat forever\n",
    "-- But you'll need to take a finite piece of it to display the results.\n",
    "take 20 (cycle \"ABC\")\n",
    "\n",
    "-- `repeat` does this with a single element.\n",
    "take 10 (repeat 'a')\n",
    "\n",
    "-- You can also use `replicate`\n",
    "replicate 3 'b'\n",
    "\n"
   ]
  },
  {
   "cell_type": "markdown",
   "metadata": {},
   "source": [
    "Okay let's write a program!\n"
   ]
  }
 ],
 "metadata": {
  "kernelspec": {
   "display_name": "Haskell",
   "language": "haskell",
   "name": "haskell"
  },
  "language_info": {
   "codemirror_mode": "ihaskell",
   "file_extension": ".hs",
   "mimetype": "text/x-haskell",
   "name": "haskell",
   "pygments_lexer": "Haskell",
   "version": "9.6.4"
  }
 },
 "nbformat": 4,
 "nbformat_minor": 2
}
