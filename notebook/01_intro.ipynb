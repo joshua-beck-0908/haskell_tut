{
 "cells": [
  {
   "cell_type": "markdown",
   "metadata": {},
   "source": [
    "# Introduction\n",
    "\n",
    "## [Learn You a Haskell for Great Good!](https://learnyouahaskell.github.io/chapters.html)\n",
    "\n",
    "I'll be using the tutorial here:\n",
    "\n",
    "https://learnyouahaskell.github.io/chapters.html\n",
    "\n",
    "The tone seems a bit strange, but it's also looks like a fairly complete guide.\n",
    "\n",
    "I'll probably get the eBook or paperback.\n",
    "\n",
    "\n"
   ]
  }
 ],
 "metadata": {
  "language_info": {
   "name": "python"
  }
 },
 "nbformat": 4,
 "nbformat_minor": 2
}
