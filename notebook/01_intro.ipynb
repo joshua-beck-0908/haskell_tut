{
 "cells": [
  {
   "cell_type": "markdown",
   "metadata": {},
   "source": [
    "<style> p { max-width: 500px; } </style>\n",
    "\n",
    "# Introduction\n",
    "\n",
    "## [Learn You a Haskell for Great Good!](https://learnyouahaskell.github.io/chapters.html)\n",
    "\n",
    "I'll be using the tutorial here:\n",
    "\n",
    "https://learnyouahaskell.github.io/chapters.html\n",
    "\n",
    "The tone seems a bit strange, but it's also looks like a fairly complete guide.\n",
    "\n",
    "I'll probably get the eBook or paperback.\n",
    "\n",
    "\n"
   ]
  },
  {
   "cell_type": "markdown",
   "metadata": {},
   "source": [
    "<style> p { max-width: 500px; } </style>\n",
    "\n",
    "## [About this tutorial](https://learnyouahaskell.github.io/introduction.html#about-this-tutorial)\n",
    "\n",
    "I... gotta say. I love the colourful cartoony sketches that accompany this guide. It adds some personality that's missing from a lot of coding guides.\n",
    "\n",
    "The tone seems quite warm and friendly.\n",
    "\n",
    "It's aimed at people who are experienced in imperative languages but haven't used a dedicated functional programming language before. Sounds like me!\n",
    "\n"
   ]
  },
  {
   "cell_type": "markdown",
   "metadata": {},
   "source": [
    "<style> p { max-width: 500px; } </style>\n",
    "\n",
    "## [So what's Haskell?](https://learnyouahaskell.github.io/introduction.html#so-whats-haskell)\n",
    "\n",
    " > In purely functional programming you don't tell the computer what to do as such but rather you tell it what stuff is.\n",
    "\n",
    "I like this idea, even if I don't yet understand it.\n",
    "\n",
    "I have some kind of idea from things I've read, but speculation from limited information can be the greatest threat to your understanding.\n",
    "\n",
    "For now, I'll just take it in.\n",
    "\n",
    "> The factorial of a number is the product of all the numbers from 1 to that number, the sum of a list of numbers is the first number plus the sum of all the other numbers, and so on. You express that in the form of functions. \n",
    "\n",
    "So every thing takes to form of functions and forumulae instead of flow control? It sounds more like mathematics than programming.\n",
    "\n",
    "> You also can't set a variable to something and then set it to something else later. If you say that a is 5, you can't say it's something else later because you just said it was 5. What are you, some kind of liar? So in purely functional languages, a function has no side effects. The only thing a function can do is calculate something and return it as a result.\n",
    "\n",
    "Haha, programmers are such terrible liars. But not changing variables on the fly? Interesting. I'm keen to know more! 🙂\n",
    "\n",
    "It sounds like there's a kind on consistancy that imperative languages cannot offer. I know side effects are bad, I always try to minimize global state; but can they really be fully avoided?\n",
    "\n"
   ]
  },
  {
   "cell_type": "markdown",
   "metadata": {},
   "source": [
    "<style> p { max-width: 500px; } </style>\n",
    "\n",
    "> Haskell is lazy. That means that unless specifically told otherwise, Haskell won't execute functions and calculate things until it's really forced to show you a result.\n",
    "\n",
    "I support that's what would allow the definition of generic formulae. \n",
    "\n",
    "This idea came up when I looked into Python generators.\n",
    "\n",
    "It seems like it's more complete here.\n",
    "\n",
    "This concept that a function can return... abstract unbounded data. A function that stretches to infinity. But it avoid turning those into concrete values until you actually ask for them.\n",
    "\n",
    "The language adds layers and layers of functions and when you want to actually turn those into a concrete value it works its way back through the chain of functions.\n",
    "\n",
    "Back to the real world, Haskell is statically typed with the same kind of type inference you see in a lot of modern languages.\n",
    "\n",
    "Though it sounds like they're saying there is no distinction between different types of integers?\n",
    "\n",
    "Well, I'm ready to see these \"elegant and concise\" programs!\n",
    "\n",
    "I already install my tools in the previous steps.\n",
    "\n",
    "\n",
    "\n",
    "\n",
    "\n"
   ]
  }
 ],
 "metadata": {
  "kernelspec": {
   "display_name": "Haskell",
   "language": "haskell",
   "name": "haskell"
  },
  "language_info": {
   "name": "haskell"
  }
 },
 "nbformat": 4,
 "nbformat_minor": 2
}
