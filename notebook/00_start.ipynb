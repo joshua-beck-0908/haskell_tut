{
 "cells": [
  {
   "cell_type": "markdown",
   "metadata": {},
   "source": [
    "<style> p { max-width: 500px; } </style>\n",
    "\n",
    "# Haskell\n",
    "\n",
    "I've been interested in learning a purely functional language for a while, and there've been a lot of interesting looking snippets that make me want to try Haskell.\n",
    "\n",
    "I'll start from the official website:\n",
    "https://www.haskell.org/\n",
    "\n",
    "I took a look at their \"Getting Started\" section.\n",
    "\n",
    "I'm keen to get everything working in VS Code and Jupyter notebooks.\n",
    "\n",
    "It says I'll need to install the [GHCup package manager](https://www.haskell.org/ghcup/#).\n",
    "\n",
    "I took a quick look at the script and install it with this command:\n",
    "```sh\n",
    "curl --proto '=https' --tlsv1.2 -sSf https://get-ghcup.haskell.org | sh\n",
    "```\n",
    "\n",
    "The installer and documentation it linked to was top notch.👍\n",
    "\n",
    "It explained everything very well and (unlike some languages) paused to warn me of the dependencies that needed to be installed.\n",
    "\n",
    "The only one I didn't have what this strange 'libgmpxx4ldbl'.\n",
    "\n",
    "What... is that? Some obscure part of the bignum libraries?\n",
    "\n",
    "The files were install to: \"~/.ghcup\".\n",
    "\n",
    "They've defined some new names:\n",
    " * GHC - The compiler.\n",
    " * HLS - The language server.\n",
    " * Cabel - The main build tool.\n",
    " * Stack - Another build tool?\n",
    "\n",
    "Once that was done I installed the [official Haskell VSCode extension](https://marketplace.visualstudio.com/items?itemName=haskell.haskell).\n",
    "\n",
    "\n",
    "\n",
    "\n"
   ]
  }
 ],
 "metadata": {
  "language_info": {
   "name": "python"
  }
 },
 "nbformat": 4,
 "nbformat_minor": 2
}
